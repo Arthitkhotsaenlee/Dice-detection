{
 "cells": [
  {
   "cell_type": "markdown",
   "metadata": {
    "pycharm": {
     "name": "#%% md\n"
    }
   },
   "source": [
    "# Custom train YOLO to detectiong dices"
   ]
  },
  {
   "cell_type": "code",
   "execution_count": 6,
   "metadata": {
    "pycharm": {
     "name": "#%%\n"
    }
   },
   "outputs": [
    {
     "ename": "ModuleNotFoundError",
     "evalue": "No module named 'ultralytics'",
     "output_type": "error",
     "traceback": [
      "\u001b[0;31m---------------------------------------------------------------------------\u001b[0m",
      "\u001b[0;31mModuleNotFoundError\u001b[0m                       Traceback (most recent call last)",
      "Cell \u001b[0;32mIn[6], line 1\u001b[0m\n\u001b[0;32m----> 1\u001b[0m \u001b[38;5;28;01mfrom\u001b[39;00m \u001b[38;5;21;01multralytics\u001b[39;00m \u001b[38;5;28;01mimport\u001b[39;00m YOLO\n",
      "\u001b[0;31mModuleNotFoundError\u001b[0m: No module named 'ultralytics'"
     ]
    }
   ],
   "source": [
    "from ultralytics import YOLO"
   ]
  },
  {
   "cell_type": "code",
   "execution_count": 1,
   "metadata": {
    "pycharm": {
     "name": "#%%\n"
    }
   },
   "outputs": [
    {
     "name": "stderr",
     "output_type": "stream",
     "text": [
      "\n",
      "Downloading https:\\media.roboflow.com\\notebooks\\examples\\dog.jpeg to dog.jpeg...\n",
      "100%|███████████████████████████████████████████████████████████████████████████████| 104k/104k [00:00<00:00, 6.26MB/s]\n",
      "image 1/1 D:\\MindAmp_projects\\Dice-detection\\dog.jpeg: 640x384 1 person, 1 car, 1 dog, 58.4ms\n",
      "Speed: 2.0ms preprocess, 58.4ms inference, 22.5ms postprocess per image at shape (1, 3, 640, 640)\n"
     ]
    },
    {
     "data": {
      "text/plain": [
       "[ultralytics.yolo.engine.results.Results object with attributes:\n",
       " \n",
       " boxes: ultralytics.yolo.engine.results.Boxes object\n",
       " keypoints: None\n",
       " keys: ['boxes']\n",
       " masks: None\n",
       " names: {0: 'person', 1: 'bicycle', 2: 'car', 3: 'motorcycle', 4: 'airplane', 5: 'bus', 6: 'train', 7: 'truck', 8: 'boat', 9: 'traffic light', 10: 'fire hydrant', 11: 'stop sign', 12: 'parking meter', 13: 'bench', 14: 'bird', 15: 'cat', 16: 'dog', 17: 'horse', 18: 'sheep', 19: 'cow', 20: 'elephant', 21: 'bear', 22: 'zebra', 23: 'giraffe', 24: 'backpack', 25: 'umbrella', 26: 'handbag', 27: 'tie', 28: 'suitcase', 29: 'frisbee', 30: 'skis', 31: 'snowboard', 32: 'sports ball', 33: 'kite', 34: 'baseball bat', 35: 'baseball glove', 36: 'skateboard', 37: 'surfboard', 38: 'tennis racket', 39: 'bottle', 40: 'wine glass', 41: 'cup', 42: 'fork', 43: 'knife', 44: 'spoon', 45: 'bowl', 46: 'banana', 47: 'apple', 48: 'sandwich', 49: 'orange', 50: 'broccoli', 51: 'carrot', 52: 'hot dog', 53: 'pizza', 54: 'donut', 55: 'cake', 56: 'chair', 57: 'couch', 58: 'potted plant', 59: 'bed', 60: 'dining table', 61: 'toilet', 62: 'tv', 63: 'laptop', 64: 'mouse', 65: 'remote', 66: 'keyboard', 67: 'cell phone', 68: 'microwave', 69: 'oven', 70: 'toaster', 71: 'sink', 72: 'refrigerator', 73: 'book', 74: 'clock', 75: 'vase', 76: 'scissors', 77: 'teddy bear', 78: 'hair drier', 79: 'toothbrush'}\n",
       " orig_img: array([[[202, 157, 120],\n",
       "         [202, 157, 120],\n",
       "         [202, 157, 120],\n",
       "         ...,\n",
       "         [199, 161, 129],\n",
       "         [198, 160, 128],\n",
       "         [198, 160, 128]],\n",
       " \n",
       "        [[201, 156, 119],\n",
       "         [201, 156, 119],\n",
       "         [201, 156, 119],\n",
       "         ...,\n",
       "         [199, 161, 129],\n",
       "         [199, 161, 129],\n",
       "         [198, 160, 128]],\n",
       " \n",
       "        [[201, 156, 119],\n",
       "         [201, 156, 119],\n",
       "         [201, 156, 119],\n",
       "         ...,\n",
       "         [200, 162, 130],\n",
       "         [199, 161, 129],\n",
       "         [199, 161, 129]],\n",
       " \n",
       "        ...,\n",
       " \n",
       "        [[202, 204, 205],\n",
       "         [220, 222, 223],\n",
       "         [233, 235, 236],\n",
       "         ...,\n",
       "         [109, 124, 150],\n",
       "         [112, 126, 154],\n",
       "         [106, 123, 150]],\n",
       " \n",
       "        [[197, 199, 200],\n",
       "         [225, 227, 228],\n",
       "         [220, 222, 223],\n",
       "         ...,\n",
       "         [106, 121, 147],\n",
       "         [105, 119, 147],\n",
       "         [105, 121, 150]],\n",
       " \n",
       "        [[208, 210, 211],\n",
       "         [194, 196, 197],\n",
       "         [221, 223, 224],\n",
       "         ...,\n",
       "         [103, 118, 144],\n",
       "         [106, 120, 148],\n",
       "         [118, 134, 163]]], dtype=uint8)\n",
       " orig_shape: (1280, 720)\n",
       " path: 'D:\\\\MindAmp_projects\\\\Dice-detection\\\\dog.jpeg'\n",
       " probs: None\n",
       " speed: {'preprocess': 1.9931793212890625, 'inference': 58.44545364379883, 'postprocess': 22.455453872680664}]"
      ]
     },
     "execution_count": 1,
     "metadata": {},
     "output_type": "execute_result"
    }
   ],
   "source": [
    "from ultralytics import YOLO\n",
    "\n",
    "model = YOLO('yolov8n.pt')\n",
    "model.predict(\n",
    "   source='https://media.roboflow.com/notebooks/examples/dog.jpeg',\n",
    "   conf=0.25\n",
    ")"
   ]
  },
  {
   "cell_type": "code",
   "execution_count": null,
   "metadata": {},
   "outputs": [],
   "source": []
  }
 ],
 "metadata": {
  "kernelspec": {
   "display_name": "learning",
   "language": "python",
   "name": "learning"
  },
  "language_info": {
   "codemirror_mode": {
    "name": "ipython",
    "version": 3
   },
   "file_extension": ".py",
   "mimetype": "text/x-python",
   "name": "python",
   "nbconvert_exporter": "python",
   "pygments_lexer": "ipython3",
   "version": "3.9.16"
  }
 },
 "nbformat": 4,
 "nbformat_minor": 1
}
