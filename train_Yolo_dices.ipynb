{
 "cells": [
  {
   "cell_type": "code",
   "execution_count": 1,
   "outputs": [
    {
     "name": "stdout",
     "output_type": "stream",
     "text": [
      "Package              Version\r\n",
      "-------------------- --------------------\r\n",
      "anyio                3.5.0\r\n",
      "appnope              0.1.2\r\n",
      "argon2-cffi          21.3.0\r\n",
      "argon2-cffi-bindings 21.2.0\r\n",
      "asttokens            2.0.5\r\n",
      "attrs                22.1.0\r\n",
      "Babel                2.11.0\r\n",
      "backcall             0.2.0\r\n",
      "beautifulsoup4       4.12.2\r\n",
      "bleach               4.1.0\r\n",
      "brotlipy             0.7.0\r\n",
      "certifi              2022.12.7\r\n",
      "cffi                 1.15.1\r\n",
      "charset-normalizer   2.0.4\r\n",
      "comm                 0.1.2\r\n",
      "contourpy            1.0.7\r\n",
      "cryptography         39.0.1\r\n",
      "cycler               0.11.0\r\n",
      "debugpy              1.5.1\r\n",
      "decorator            5.1.1\r\n",
      "defusedxml           0.7.1\r\n",
      "entrypoints          0.4\r\n",
      "executing            0.8.3\r\n",
      "fastjsonschema       2.16.2\r\n",
      "filelock             3.11.0\r\n",
      "flit_core            3.8.0\r\n",
      "fonttools            4.39.3\r\n",
      "idna                 3.4\r\n",
      "importlib-metadata   6.0.0\r\n",
      "importlib-resources  5.12.0\r\n",
      "ipykernel            6.19.2\r\n",
      "ipython              8.12.0\r\n",
      "ipython-genutils     0.2.0\r\n",
      "ipywidgets           8.0.4\r\n",
      "jedi                 0.18.1\r\n",
      "Jinja2               3.1.2\r\n",
      "json5                0.9.6\r\n",
      "jsonschema           4.17.3\r\n",
      "jupyter              1.0.0\r\n",
      "jupyter_client       8.1.0\r\n",
      "jupyter-console      6.6.3\r\n",
      "jupyter_core         5.3.0\r\n",
      "jupyter-server       1.23.4\r\n",
      "jupyterlab           3.5.3\r\n",
      "jupyterlab-pygments  0.1.2\r\n",
      "jupyterlab_server    2.22.0\r\n",
      "jupyterlab-widgets   3.0.5\r\n",
      "kiwisolver           1.4.4\r\n",
      "lxml                 4.9.2\r\n",
      "MarkupSafe           2.1.1\r\n",
      "matplotlib           3.7.1\r\n",
      "matplotlib-inline    0.1.6\r\n",
      "mistune              0.8.4\r\n",
      "mpmath               1.3.0\r\n",
      "nbclassic            0.5.4\r\n",
      "nbclient             0.5.13\r\n",
      "nbconvert            6.5.4\r\n",
      "nbformat             5.7.0\r\n",
      "nest-asyncio         1.5.6\r\n",
      "networkx             3.1\r\n",
      "notebook             6.5.3\r\n",
      "notebook_shim        0.2.2\r\n",
      "numpy                1.24.2\r\n",
      "opencv-python        4.7.0.72\r\n",
      "packaging            23.0\r\n",
      "pandas               2.0.0\r\n",
      "pandocfilters        1.5.0\r\n",
      "parso                0.8.3\r\n",
      "pexpect              4.8.0\r\n",
      "pickleshare          0.7.5\r\n",
      "Pillow               9.5.0\r\n",
      "pip                  23.0.1\r\n",
      "platformdirs         2.5.2\r\n",
      "ply                  3.11\r\n",
      "prometheus-client    0.14.1\r\n",
      "prompt-toolkit       3.0.36\r\n",
      "psutil               5.9.0\r\n",
      "ptyprocess           0.7.0\r\n",
      "pure-eval            0.2.2\r\n",
      "pycparser            2.21\r\n",
      "Pygments             2.11.2\r\n",
      "pyOpenSSL            23.0.0\r\n",
      "pyparsing            3.0.9\r\n",
      "PyQt5-sip            12.11.0\r\n",
      "pyrsistent           0.18.0\r\n",
      "PySocks              1.7.1\r\n",
      "python-dateutil      2.8.2\r\n",
      "pytz                 2022.7\r\n",
      "PyYAML               6.0\r\n",
      "pyzmq                23.2.0\r\n",
      "qtconsole            5.4.2\r\n",
      "QtPy                 2.2.0\r\n",
      "requests             2.28.1\r\n",
      "scipy                1.10.1\r\n",
      "seaborn              0.12.2\r\n",
      "Send2Trash           1.8.0\r\n",
      "sentry-sdk           1.19.1\r\n",
      "setuptools           65.6.3\r\n",
      "sip                  6.6.2\r\n",
      "six                  1.16.0\r\n",
      "sniffio              1.2.0\r\n",
      "soupsieve            2.4\r\n",
      "stack-data           0.2.0\r\n",
      "sympy                1.11.1\r\n",
      "terminado            0.17.1\r\n",
      "thop                 0.1.1.post2209072238\r\n",
      "tinycss2             1.2.1\r\n",
      "toml                 0.10.2\r\n",
      "tomli                2.0.1\r\n",
      "torch                2.0.0\r\n",
      "torchvision          0.15.1\r\n",
      "tornado              6.2\r\n",
      "tqdm                 4.65.0\r\n",
      "traitlets            5.7.1\r\n",
      "typing_extensions    4.4.0\r\n",
      "tzdata               2023.3\r\n",
      "ultralytics          8.0.78\r\n",
      "urllib3              1.26.15\r\n",
      "wcwidth              0.2.5\r\n",
      "webencodings         0.5.1\r\n",
      "websocket-client     0.58.0\r\n",
      "wheel                0.38.4\r\n",
      "widgetsnbextension   4.0.5\r\n",
      "zipp                 3.11.0\r\n"
     ]
    }
   ],
   "source": [
    "!pip list"
   ],
   "metadata": {
    "collapsed": false,
    "pycharm": {
     "name": "#%%\n"
    }
   }
  },
  {
   "cell_type": "markdown",
   "source": [
    "# Custom train YOLO to detectiong dices"
   ],
   "metadata": {
    "collapsed": false,
    "pycharm": {
     "name": "#%% md\n"
    }
   }
  },
  {
   "cell_type": "code",
   "execution_count": 6,
   "outputs": [
    {
     "ename": "ModuleNotFoundError",
     "evalue": "No module named 'ultralytics'",
     "output_type": "error",
     "traceback": [
      "\u001B[0;31m---------------------------------------------------------------------------\u001B[0m",
      "\u001B[0;31mModuleNotFoundError\u001B[0m                       Traceback (most recent call last)",
      "Cell \u001B[0;32mIn[6], line 1\u001B[0m\n\u001B[0;32m----> 1\u001B[0m \u001B[38;5;28;01mfrom\u001B[39;00m \u001B[38;5;21;01multralytics\u001B[39;00m \u001B[38;5;28;01mimport\u001B[39;00m YOLO\n",
      "\u001B[0;31mModuleNotFoundError\u001B[0m: No module named 'ultralytics'"
     ]
    }
   ],
   "source": [
    "from ultralytics import YOLO"
   ],
   "metadata": {
    "collapsed": false,
    "pycharm": {
     "name": "#%%\n"
    }
   }
  },
  {
   "cell_type": "code",
   "execution_count": null,
   "outputs": [],
   "source": [],
   "metadata": {
    "collapsed": false,
    "pycharm": {
     "name": "#%%\n"
    }
   }
  }
 ],
 "metadata": {
  "kernelspec": {
   "name": "dice-detection",
   "language": "python",
   "display_name": "YOLO-dice-detection"
  },
  "language_info": {
   "codemirror_mode": {
    "name": "ipython",
    "version": 2
   },
   "file_extension": ".py",
   "mimetype": "text/x-python",
   "name": "python",
   "nbconvert_exporter": "python",
   "pygments_lexer": "ipython2",
   "version": "2.7.6"
  }
 },
 "nbformat": 4,
 "nbformat_minor": 0
}